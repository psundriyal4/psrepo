{
  "nbformat": 4,
  "nbformat_minor": 0,
  "metadata": {
    "colab": {
      "provenance": [],
      "authorship_tag": "ABX9TyNiyUHvoT3E6Uzo6J/pt7dG",
      "include_colab_link": true
    },
    "kernelspec": {
      "name": "python3",
      "display_name": "Python 3"
    },
    "language_info": {
      "name": "python"
    }
  },
  "cells": [
    {
      "cell_type": "markdown",
      "metadata": {
        "id": "view-in-github",
        "colab_type": "text"
      },
      "source": [
        "<a href=\"https://colab.research.google.com/github/psundriyal4/psrepo/blob/master/Day1_GenAI_June2024.ipynb\" target=\"_parent\"><img src=\"https://colab.research.google.com/assets/colab-badge.svg\" alt=\"Open In Colab\"/></a>"
      ]
    },
    {
      "cell_type": "code",
      "execution_count": null,
      "metadata": {
        "colab": {
          "base_uri": "https://localhost:8080/"
        },
        "id": "v0KN69HXgazu",
        "outputId": "b4783846-d947-44f6-8588-f83c94d5cb8d"
      },
      "outputs": [
        {
          "output_type": "stream",
          "name": "stdout",
          "text": [
            "Hello Oracle\n"
          ]
        }
      ],
      "source": [
        "print(\"Hello Oracle\")\n"
      ]
    },
    {
      "cell_type": "code",
      "source": [
        "! pip install cohere"
      ],
      "metadata": {
        "colab": {
          "base_uri": "https://localhost:8080/"
        },
        "id": "Y3tOp63zjOFx",
        "outputId": "cf3a0cf7-3f46-442e-a694-ebb98bc1fce5"
      },
      "execution_count": 5,
      "outputs": [
        {
          "output_type": "stream",
          "name": "stdout",
          "text": [
            "Collecting cohere\n",
            "  Downloading cohere-5.5.6-py3-none-any.whl (165 kB)\n",
            "\u001b[2K     \u001b[90m━━━━━━━━━━━━━━━━━━━━━━━━━━━━━━━━━━━━━━━━\u001b[0m \u001b[32m165.1/165.1 kB\u001b[0m \u001b[31m3.8 MB/s\u001b[0m eta \u001b[36m0:00:00\u001b[0m\n",
            "\u001b[?25hCollecting boto3<2.0.0,>=1.34.0 (from cohere)\n",
            "  Downloading boto3-1.34.123-py3-none-any.whl (139 kB)\n",
            "\u001b[2K     \u001b[90m━━━━━━━━━━━━━━━━━━━━━━━━━━━━━━━━━━━━━━━━\u001b[0m \u001b[32m139.3/139.3 kB\u001b[0m \u001b[31m14.2 MB/s\u001b[0m eta \u001b[36m0:00:00\u001b[0m\n",
            "\u001b[?25hCollecting fastavro<2.0.0,>=1.9.4 (from cohere)\n",
            "  Downloading fastavro-1.9.4-cp310-cp310-manylinux_2_17_x86_64.manylinux2014_x86_64.whl (3.1 MB)\n",
            "\u001b[2K     \u001b[90m━━━━━━━━━━━━━━━━━━━━━━━━━━━━━━━━━━━━━━━━\u001b[0m \u001b[32m3.1/3.1 MB\u001b[0m \u001b[31m40.7 MB/s\u001b[0m eta \u001b[36m0:00:00\u001b[0m\n",
            "\u001b[?25hCollecting httpx>=0.21.2 (from cohere)\n",
            "  Downloading httpx-0.27.0-py3-none-any.whl (75 kB)\n",
            "\u001b[2K     \u001b[90m━━━━━━━━━━━━━━━━━━━━━━━━━━━━━━━━━━━━━━━━\u001b[0m \u001b[32m75.6/75.6 kB\u001b[0m \u001b[31m6.9 MB/s\u001b[0m eta \u001b[36m0:00:00\u001b[0m\n",
            "\u001b[?25hCollecting httpx-sse<0.5.0,>=0.4.0 (from cohere)\n",
            "  Downloading httpx_sse-0.4.0-py3-none-any.whl (7.8 kB)\n",
            "Collecting parameterized<0.10.0,>=0.9.0 (from cohere)\n",
            "  Downloading parameterized-0.9.0-py2.py3-none-any.whl (20 kB)\n",
            "Requirement already satisfied: pydantic>=1.9.2 in /usr/local/lib/python3.10/dist-packages (from cohere) (2.7.3)\n",
            "Requirement already satisfied: requests<3.0.0,>=2.0.0 in /usr/local/lib/python3.10/dist-packages (from cohere) (2.31.0)\n",
            "Collecting tokenizers<0.16,>=0.15 (from cohere)\n",
            "  Downloading tokenizers-0.15.2-cp310-cp310-manylinux_2_17_x86_64.manylinux2014_x86_64.whl (3.6 MB)\n",
            "\u001b[2K     \u001b[90m━━━━━━━━━━━━━━━━━━━━━━━━━━━━━━━━━━━━━━━━\u001b[0m \u001b[32m3.6/3.6 MB\u001b[0m \u001b[31m55.9 MB/s\u001b[0m eta \u001b[36m0:00:00\u001b[0m\n",
            "\u001b[?25hCollecting types-requests<3.0.0,>=2.0.0 (from cohere)\n",
            "  Downloading types_requests-2.32.0.20240602-py3-none-any.whl (15 kB)\n",
            "Requirement already satisfied: typing_extensions>=4.0.0 in /usr/local/lib/python3.10/dist-packages (from cohere) (4.12.1)\n",
            "Collecting botocore<1.35.0,>=1.34.123 (from boto3<2.0.0,>=1.34.0->cohere)\n",
            "  Downloading botocore-1.34.123-py3-none-any.whl (12.3 MB)\n",
            "\u001b[2K     \u001b[90m━━━━━━━━━━━━━━━━━━━━━━━━━━━━━━━━━━━━━━━━\u001b[0m \u001b[32m12.3/12.3 MB\u001b[0m \u001b[31m39.4 MB/s\u001b[0m eta \u001b[36m0:00:00\u001b[0m\n",
            "\u001b[?25hCollecting jmespath<2.0.0,>=0.7.1 (from boto3<2.0.0,>=1.34.0->cohere)\n",
            "  Downloading jmespath-1.0.1-py3-none-any.whl (20 kB)\n",
            "Collecting s3transfer<0.11.0,>=0.10.0 (from boto3<2.0.0,>=1.34.0->cohere)\n",
            "  Downloading s3transfer-0.10.1-py3-none-any.whl (82 kB)\n",
            "\u001b[2K     \u001b[90m━━━━━━━━━━━━━━━━━━━━━━━━━━━━━━━━━━━━━━━━\u001b[0m \u001b[32m82.2/82.2 kB\u001b[0m \u001b[31m7.8 MB/s\u001b[0m eta \u001b[36m0:00:00\u001b[0m\n",
            "\u001b[?25hRequirement already satisfied: anyio in /usr/local/lib/python3.10/dist-packages (from httpx>=0.21.2->cohere) (3.7.1)\n",
            "Requirement already satisfied: certifi in /usr/local/lib/python3.10/dist-packages (from httpx>=0.21.2->cohere) (2024.6.2)\n",
            "Collecting httpcore==1.* (from httpx>=0.21.2->cohere)\n",
            "  Downloading httpcore-1.0.5-py3-none-any.whl (77 kB)\n",
            "\u001b[2K     \u001b[90m━━━━━━━━━━━━━━━━━━━━━━━━━━━━━━━━━━━━━━━━\u001b[0m \u001b[32m77.9/77.9 kB\u001b[0m \u001b[31m7.3 MB/s\u001b[0m eta \u001b[36m0:00:00\u001b[0m\n",
            "\u001b[?25hRequirement already satisfied: idna in /usr/local/lib/python3.10/dist-packages (from httpx>=0.21.2->cohere) (3.7)\n",
            "Requirement already satisfied: sniffio in /usr/local/lib/python3.10/dist-packages (from httpx>=0.21.2->cohere) (1.3.1)\n",
            "Collecting h11<0.15,>=0.13 (from httpcore==1.*->httpx>=0.21.2->cohere)\n",
            "  Downloading h11-0.14.0-py3-none-any.whl (58 kB)\n",
            "\u001b[2K     \u001b[90m━━━━━━━━━━━━━━━━━━━━━━━━━━━━━━━━━━━━━━━━\u001b[0m \u001b[32m58.3/58.3 kB\u001b[0m \u001b[31m6.0 MB/s\u001b[0m eta \u001b[36m0:00:00\u001b[0m\n",
            "\u001b[?25hRequirement already satisfied: annotated-types>=0.4.0 in /usr/local/lib/python3.10/dist-packages (from pydantic>=1.9.2->cohere) (0.7.0)\n",
            "Requirement already satisfied: pydantic-core==2.18.4 in /usr/local/lib/python3.10/dist-packages (from pydantic>=1.9.2->cohere) (2.18.4)\n",
            "Requirement already satisfied: charset-normalizer<4,>=2 in /usr/local/lib/python3.10/dist-packages (from requests<3.0.0,>=2.0.0->cohere) (3.3.2)\n",
            "Requirement already satisfied: urllib3<3,>=1.21.1 in /usr/local/lib/python3.10/dist-packages (from requests<3.0.0,>=2.0.0->cohere) (2.0.7)\n",
            "Requirement already satisfied: huggingface_hub<1.0,>=0.16.4 in /usr/local/lib/python3.10/dist-packages (from tokenizers<0.16,>=0.15->cohere) (0.23.2)\n",
            "Requirement already satisfied: python-dateutil<3.0.0,>=2.1 in /usr/local/lib/python3.10/dist-packages (from botocore<1.35.0,>=1.34.123->boto3<2.0.0,>=1.34.0->cohere) (2.8.2)\n",
            "Requirement already satisfied: filelock in /usr/local/lib/python3.10/dist-packages (from huggingface_hub<1.0,>=0.16.4->tokenizers<0.16,>=0.15->cohere) (3.14.0)\n",
            "Requirement already satisfied: fsspec>=2023.5.0 in /usr/local/lib/python3.10/dist-packages (from huggingface_hub<1.0,>=0.16.4->tokenizers<0.16,>=0.15->cohere) (2023.6.0)\n",
            "Requirement already satisfied: packaging>=20.9 in /usr/local/lib/python3.10/dist-packages (from huggingface_hub<1.0,>=0.16.4->tokenizers<0.16,>=0.15->cohere) (24.0)\n",
            "Requirement already satisfied: pyyaml>=5.1 in /usr/local/lib/python3.10/dist-packages (from huggingface_hub<1.0,>=0.16.4->tokenizers<0.16,>=0.15->cohere) (6.0.1)\n",
            "Requirement already satisfied: tqdm>=4.42.1 in /usr/local/lib/python3.10/dist-packages (from huggingface_hub<1.0,>=0.16.4->tokenizers<0.16,>=0.15->cohere) (4.66.4)\n",
            "Requirement already satisfied: exceptiongroup in /usr/local/lib/python3.10/dist-packages (from anyio->httpx>=0.21.2->cohere) (1.2.1)\n",
            "Requirement already satisfied: six>=1.5 in /usr/local/lib/python3.10/dist-packages (from python-dateutil<3.0.0,>=2.1->botocore<1.35.0,>=1.34.123->boto3<2.0.0,>=1.34.0->cohere) (1.16.0)\n",
            "Installing collected packages: types-requests, parameterized, jmespath, httpx-sse, h11, fastavro, httpcore, botocore, tokenizers, s3transfer, httpx, boto3, cohere\n",
            "  Attempting uninstall: tokenizers\n",
            "    Found existing installation: tokenizers 0.19.1\n",
            "    Uninstalling tokenizers-0.19.1:\n",
            "      Successfully uninstalled tokenizers-0.19.1\n",
            "\u001b[31mERROR: pip's dependency resolver does not currently take into account all the packages that are installed. This behaviour is the source of the following dependency conflicts.\n",
            "transformers 4.41.2 requires tokenizers<0.20,>=0.19, but you have tokenizers 0.15.2 which is incompatible.\u001b[0m\u001b[31m\n",
            "\u001b[0mSuccessfully installed boto3-1.34.123 botocore-1.34.123 cohere-5.5.6 fastavro-1.9.4 h11-0.14.0 httpcore-1.0.5 httpx-0.27.0 httpx-sse-0.4.0 jmespath-1.0.1 parameterized-0.9.0 s3transfer-0.10.1 tokenizers-0.15.2 types-requests-2.32.0.20240602\n"
          ]
        }
      ]
    },
    {
      "cell_type": "code",
      "source": [
        "import cohere\n",
        "COHERE_API_KEY = \"CzzPh11xVShi7gE6GSaUeyJscuZo31UPgR9c4Of6\"\n",
        "co = cohere.Client(COHERE_API_KEY)"
      ],
      "metadata": {
        "id": "oYne3aLUjqgQ"
      },
      "execution_count": 6,
      "outputs": []
    },
    {
      "cell_type": "code",
      "source": [
        "co = cohere.Client(COHERE_API_KEY)\n",
        "\n",
        "response = co.generate(\n",
        "    prompt = \"When DRDO was established\",\n",
        "    max_tokens = 200,\n",
        "    temperature = 0.5,\n",
        "    stop_sequences=[\"\\n\"]\n",
        "\n",
        ")\n",
        "print(response.generations[0].text)"
      ],
      "metadata": {
        "colab": {
          "base_uri": "https://localhost:8080/"
        },
        "id": "KHr7Pm3Ej9Ps",
        "outputId": "0f003c4d-8fae-44eb-d71e-cec7cba465a6"
      },
      "execution_count": 7,
      "outputs": [
        {
          "output_type": "stream",
          "name": "stdout",
          "text": [
            " DRDO was established on April 1, 1965, with the mission to empower India militarily with cutting-edge technology weapons. It was formed with a mandate to undertake directed research and development in defense technologies to meet the requirements of the Armed Forces. \n",
            "\n"
          ]
        }
      ]
    },
    {
      "cell_type": "code",
      "source": [
        "import textwrap as tr\n",
        "\n",
        "co = cohere.Client(COHERE_API_KEY)\n",
        "\n",
        "response = co.generate(\n",
        "    prompt = \"When DRDO was established\",\n",
        "    max_tokens = 200,\n",
        "    temperature = 0.5,\n",
        "    stop_sequences=[\"\\n\"]\n",
        "\n",
        ")\n",
        "output = response.generations[0].text\n",
        "output = tr.fill(output, width=100)\n",
        "print(output)\n",
        "print(type(output))\n"
      ],
      "metadata": {
        "id": "8FmPqaez_VNJ",
        "colab": {
          "base_uri": "https://localhost:8080/"
        },
        "outputId": "c1df7934-fd12-425b-d392-6bd45aeb146e"
      },
      "execution_count": 8,
      "outputs": [
        {
          "output_type": "stream",
          "name": "stdout",
          "text": [
            " DRDO was established on 1958. It has been 60 years since DRDO has been influencing the Indian\n",
            "Defence Industry and the strategic domain.\n",
            "<class 'str'>\n"
          ]
        }
      ]
    },
    {
      "cell_type": "code",
      "source": [
        "prompt = \"\"\"\n",
        "Write the first paragraph of a blog post given a blog title.\n",
        "--\n",
        "Blog Title: Best Activities in Toronto\n",
        "First Paragraph: Looking for fun things to do in Toronto? When it comes to exploring Canada's\n",
        "largest city, there's an ever-evolving set of activities to choose from. Whether you're looking to\n",
        "visit a local museum or sample the city's varied cuisine, there is plenty to fill any itinerary. In\n",
        "this blog post, I'll share some of my favorite recommendations\n",
        "--\n",
        "Blog Title: Mastering Dynamic Programming\n",
        "First Paragraph: In this piece, we'll help you understand the fundamentals of dynamic programming,\n",
        "and when to apply this optimization technique. We'll break down bottom-up and top-down approaches to\n",
        "solve dynamic programming problems.\n",
        "--\n",
        "Blog Title: Learning to Code with Hello, World!\n",
        "First Paragraph:\"\"\"\n",
        "\n",
        "import textwrap as tr\n",
        "\n",
        "co = cohere.Client(COHERE_API_KEY)\n",
        "\n",
        "response = co.generate(\n",
        "    prompt = \"When DRDO was established\",\n",
        "    max_tokens = 200,\n",
        "    temperature = 0.3,\n",
        "\n",
        ")\n",
        "output = response.generations[0].text\n",
        "output = tr.fill(output, width=100)\n",
        "print(output)\n",
        "print(type(output))\n",
        ""
      ],
      "metadata": {
        "colab": {
          "base_uri": "https://localhost:8080/"
        },
        "id": "4ASy7H9zxZG-",
        "outputId": "684a3a1b-8866-4704-ccca-202ee8b4eb27"
      },
      "execution_count": 9,
      "outputs": [
        {
          "output_type": "stream",
          "name": "stdout",
          "text": [
            " DRDO was established on April 1, 1965, in order to establish a strong scientific and technical base\n",
            "for providing our defence services with cutting-edge technologies. It came into existence with a\n",
            "vision to empower Indian defence systems with home-grown innovations and cutting-edge technologies.\n",
            "Would you like to know more about DRDO?\n",
            "<class 'str'>\n"
          ]
        }
      ]
    },
    {
      "cell_type": "code",
      "source": [
        "def generate_text(based_prompt, current_prompt):\n",
        "   response = co.generate(\n",
        "       model = \"command\",\n",
        "       prompt = base_prompt + current_prompt,\n",
        "       max_tokens = 200,\n",
        "       temperature = 0.3,\n",
        "       stop_sequences=[\"--\"]\n",
        "   )\n",
        "   return response.generations[0].text"
      ],
      "metadata": {
        "id": "4EnmAfVM6xzo"
      },
      "execution_count": 14,
      "outputs": []
    },
    {
      "cell_type": "code",
      "source": [
        "base_prompt = \"\"\"\n",
        "Write the first paragraph of a blog post given a blog title.\n",
        "--\n",
        "Blog Title: Best Activities in Toronto\n",
        "First Paragraph: Looking for fun things to do in Toronto? When it comes to exploring Canada's\n",
        "largest city, there's an ever-evolving set of activities to choose from. Whether you're looking to\n",
        "visit a local museum or sample the city's varied cuisine, there is plenty to fill any itinerary. In\n",
        "this blog post, I'll share some of my favorite recommendations\n",
        "--\n",
        "Blog Title: Mastering Dynamic Programming\n",
        "First Paragraph: In this piece, we'll help you understand the fundamentals of dynamic programming,\n",
        "and when to apply this optimization technique. We'll break down bottom-up and top-down approaches to\n",
        "solve dynamic programming problems.\n",
        "--\n",
        "Blog Title:\"\"\"\n",
        "\n",
        "\n",
        "\n",
        "\n",
        "topics = [\"How to Grow in Your Career\",\n",
        "          \"The Habits of Great Software Developers\",\n",
        "          \"Ideas for a Relaxing Weekend\"]"
      ],
      "metadata": {
        "id": "iALOZIgi7QT8"
      },
      "execution_count": 15,
      "outputs": []
    },
    {
      "cell_type": "code",
      "source": [
        "pragraphs = []\n",
        "for topic in topics:\n",
        "   current_prompt = \" \" + topic + \"\\n\" + \"First Paragraph :\"\n",
        "   para = generate_text(base_prompt, current_prompt)\n",
        "   para = para.strip().replace(\"--\", \"\")\n",
        "   pragraphs.append(para)"
      ],
      "metadata": {
        "id": "LTsDSdG87Z75"
      },
      "execution_count": 16,
      "outputs": []
    },
    {
      "cell_type": "code",
      "source": [
        "for topic, para in zip(topics, pragraphs):\n",
        "   print(f\"Topic : {topic}\")\n",
        "   print(f\"First Paragraph : {para}\")\n",
        "   print(\"-\"* 15)"
      ],
      "metadata": {
        "colab": {
          "base_uri": "https://localhost:8080/"
        },
        "id": "Pm83564W8prW",
        "outputId": "142b3016-7f0a-489b-a581-bd7957164597"
      },
      "execution_count": 17,
      "outputs": [
        {
          "output_type": "stream",
          "name": "stdout",
          "text": [
            "Topic : How to Grow in Your Career\n",
            "First Paragraph : Regardless of your profession, achieving career growth requires intention, discipline and reflection. \n",
            "\n",
            "Just as we workout to grow our physical fitness, we need to take similar steps to grow our careers. In this blog, we'll discuss the importance of setting goals, networking, asking for help and taking risks in order to propel your career to the next level. \n",
            "\n",
            "Keep reading to explore tips and tricks to help you grow professionally.\n",
            "---------------\n",
            "Topic : The Habits of Great Software Developers\n",
            "First Paragraph : Whether you're an aspiring developer or a veteran in the field, honing effective habits enhances your productivity and impact. This blog post will delve into the essential habits and practices that set great software developers apart. From relentless learning to meticulous debugging, we'll explore the methodologies that pave the way for innovation and excellence in the realm of software development. Are you ready to cultivate exceptional habits? Let's get started!\n",
            "---------------\n",
            "Topic : Ideas for a Relaxing Weekend\n",
            "First Paragraph : Fed up of the same old boring weekend routines? Looking for some inspiration for your next weekend adventure? Here are some ideas for a relaxing weekend that will help you unwind and recharge your batteries. \n",
            "\n",
            "From crafting a perfect cozy ambiance to indulging in self-care, we've got you covered for the next two days of restful pleasure. \n",
            "\n",
            "So get ready to relax, recharge, and embrace the tranquility because the weekend is just around the corner! Do you want me to suggest a few more activities for this blog topic?\n",
            "---------------\n"
          ]
        }
      ]
    }
  ]
}