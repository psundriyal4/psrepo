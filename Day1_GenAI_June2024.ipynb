{
  "nbformat": 4,
  "nbformat_minor": 0,
  "metadata": {
    "colab": {
      "provenance": [],
      "authorship_tag": "ABX9TyONfbOnvdVbo6TYKcVoijJC",
      "include_colab_link": true
    },
    "kernelspec": {
      "name": "python3",
      "display_name": "Python 3"
    },
    "language_info": {
      "name": "python"
    }
  },
  "cells": [
    {
      "cell_type": "markdown",
      "metadata": {
        "id": "view-in-github",
        "colab_type": "text"
      },
      "source": [
        "<a href=\"https://colab.research.google.com/github/psundriyal4/psrepo/blob/master/Day1_GenAI_June2024.ipynb\" target=\"_parent\"><img src=\"https://colab.research.google.com/assets/colab-badge.svg\" alt=\"Open In Colab\"/></a>"
      ]
    },
    {
      "cell_type": "code",
      "execution_count": null,
      "metadata": {
        "colab": {
          "base_uri": "https://localhost:8080/"
        },
        "id": "v0KN69HXgazu",
        "outputId": "b4783846-d947-44f6-8588-f83c94d5cb8d"
      },
      "outputs": [
        {
          "output_type": "stream",
          "name": "stdout",
          "text": [
            "Hello Oracle\n"
          ]
        }
      ],
      "source": [
        "print(\"Hello Oracle\")\n"
      ]
    },
    {
      "cell_type": "code",
      "source": [
        "! pip install cohere"
      ],
      "metadata": {
        "colab": {
          "base_uri": "https://localhost:8080/"
        },
        "id": "Y3tOp63zjOFx",
        "outputId": "cf3a0cf7-3f46-442e-a694-ebb98bc1fce5"
      },
      "execution_count": 5,
      "outputs": [
        {
          "output_type": "stream",
          "name": "stdout",
          "text": [
            "Collecting cohere\n",
            "  Downloading cohere-5.5.6-py3-none-any.whl (165 kB)\n",
            "\u001b[2K     \u001b[90m━━━━━━━━━━━━━━━━━━━━━━━━━━━━━━━━━━━━━━━━\u001b[0m \u001b[32m165.1/165.1 kB\u001b[0m \u001b[31m3.8 MB/s\u001b[0m eta \u001b[36m0:00:00\u001b[0m\n",
            "\u001b[?25hCollecting boto3<2.0.0,>=1.34.0 (from cohere)\n",
            "  Downloading boto3-1.34.123-py3-none-any.whl (139 kB)\n",
            "\u001b[2K     \u001b[90m━━━━━━━━━━━━━━━━━━━━━━━━━━━━━━━━━━━━━━━━\u001b[0m \u001b[32m139.3/139.3 kB\u001b[0m \u001b[31m14.2 MB/s\u001b[0m eta \u001b[36m0:00:00\u001b[0m\n",
            "\u001b[?25hCollecting fastavro<2.0.0,>=1.9.4 (from cohere)\n",
            "  Downloading fastavro-1.9.4-cp310-cp310-manylinux_2_17_x86_64.manylinux2014_x86_64.whl (3.1 MB)\n",
            "\u001b[2K     \u001b[90m━━━━━━━━━━━━━━━━━━━━━━━━━━━━━━━━━━━━━━━━\u001b[0m \u001b[32m3.1/3.1 MB\u001b[0m \u001b[31m40.7 MB/s\u001b[0m eta \u001b[36m0:00:00\u001b[0m\n",
            "\u001b[?25hCollecting httpx>=0.21.2 (from cohere)\n",
            "  Downloading httpx-0.27.0-py3-none-any.whl (75 kB)\n",
            "\u001b[2K     \u001b[90m━━━━━━━━━━━━━━━━━━━━━━━━━━━━━━━━━━━━━━━━\u001b[0m \u001b[32m75.6/75.6 kB\u001b[0m \u001b[31m6.9 MB/s\u001b[0m eta \u001b[36m0:00:00\u001b[0m\n",
            "\u001b[?25hCollecting httpx-sse<0.5.0,>=0.4.0 (from cohere)\n",
            "  Downloading httpx_sse-0.4.0-py3-none-any.whl (7.8 kB)\n",
            "Collecting parameterized<0.10.0,>=0.9.0 (from cohere)\n",
            "  Downloading parameterized-0.9.0-py2.py3-none-any.whl (20 kB)\n",
            "Requirement already satisfied: pydantic>=1.9.2 in /usr/local/lib/python3.10/dist-packages (from cohere) (2.7.3)\n",
            "Requirement already satisfied: requests<3.0.0,>=2.0.0 in /usr/local/lib/python3.10/dist-packages (from cohere) (2.31.0)\n",
            "Collecting tokenizers<0.16,>=0.15 (from cohere)\n",
            "  Downloading tokenizers-0.15.2-cp310-cp310-manylinux_2_17_x86_64.manylinux2014_x86_64.whl (3.6 MB)\n",
            "\u001b[2K     \u001b[90m━━━━━━━━━━━━━━━━━━━━━━━━━━━━━━━━━━━━━━━━\u001b[0m \u001b[32m3.6/3.6 MB\u001b[0m \u001b[31m55.9 MB/s\u001b[0m eta \u001b[36m0:00:00\u001b[0m\n",
            "\u001b[?25hCollecting types-requests<3.0.0,>=2.0.0 (from cohere)\n",
            "  Downloading types_requests-2.32.0.20240602-py3-none-any.whl (15 kB)\n",
            "Requirement already satisfied: typing_extensions>=4.0.0 in /usr/local/lib/python3.10/dist-packages (from cohere) (4.12.1)\n",
            "Collecting botocore<1.35.0,>=1.34.123 (from boto3<2.0.0,>=1.34.0->cohere)\n",
            "  Downloading botocore-1.34.123-py3-none-any.whl (12.3 MB)\n",
            "\u001b[2K     \u001b[90m━━━━━━━━━━━━━━━━━━━━━━━━━━━━━━━━━━━━━━━━\u001b[0m \u001b[32m12.3/12.3 MB\u001b[0m \u001b[31m39.4 MB/s\u001b[0m eta \u001b[36m0:00:00\u001b[0m\n",
            "\u001b[?25hCollecting jmespath<2.0.0,>=0.7.1 (from boto3<2.0.0,>=1.34.0->cohere)\n",
            "  Downloading jmespath-1.0.1-py3-none-any.whl (20 kB)\n",
            "Collecting s3transfer<0.11.0,>=0.10.0 (from boto3<2.0.0,>=1.34.0->cohere)\n",
            "  Downloading s3transfer-0.10.1-py3-none-any.whl (82 kB)\n",
            "\u001b[2K     \u001b[90m━━━━━━━━━━━━━━━━━━━━━━━━━━━━━━━━━━━━━━━━\u001b[0m \u001b[32m82.2/82.2 kB\u001b[0m \u001b[31m7.8 MB/s\u001b[0m eta \u001b[36m0:00:00\u001b[0m\n",
            "\u001b[?25hRequirement already satisfied: anyio in /usr/local/lib/python3.10/dist-packages (from httpx>=0.21.2->cohere) (3.7.1)\n",
            "Requirement already satisfied: certifi in /usr/local/lib/python3.10/dist-packages (from httpx>=0.21.2->cohere) (2024.6.2)\n",
            "Collecting httpcore==1.* (from httpx>=0.21.2->cohere)\n",
            "  Downloading httpcore-1.0.5-py3-none-any.whl (77 kB)\n",
            "\u001b[2K     \u001b[90m━━━━━━━━━━━━━━━━━━━━━━━━━━━━━━━━━━━━━━━━\u001b[0m \u001b[32m77.9/77.9 kB\u001b[0m \u001b[31m7.3 MB/s\u001b[0m eta \u001b[36m0:00:00\u001b[0m\n",
            "\u001b[?25hRequirement already satisfied: idna in /usr/local/lib/python3.10/dist-packages (from httpx>=0.21.2->cohere) (3.7)\n",
            "Requirement already satisfied: sniffio in /usr/local/lib/python3.10/dist-packages (from httpx>=0.21.2->cohere) (1.3.1)\n",
            "Collecting h11<0.15,>=0.13 (from httpcore==1.*->httpx>=0.21.2->cohere)\n",
            "  Downloading h11-0.14.0-py3-none-any.whl (58 kB)\n",
            "\u001b[2K     \u001b[90m━━━━━━━━━━━━━━━━━━━━━━━━━━━━━━━━━━━━━━━━\u001b[0m \u001b[32m58.3/58.3 kB\u001b[0m \u001b[31m6.0 MB/s\u001b[0m eta \u001b[36m0:00:00\u001b[0m\n",
            "\u001b[?25hRequirement already satisfied: annotated-types>=0.4.0 in /usr/local/lib/python3.10/dist-packages (from pydantic>=1.9.2->cohere) (0.7.0)\n",
            "Requirement already satisfied: pydantic-core==2.18.4 in /usr/local/lib/python3.10/dist-packages (from pydantic>=1.9.2->cohere) (2.18.4)\n",
            "Requirement already satisfied: charset-normalizer<4,>=2 in /usr/local/lib/python3.10/dist-packages (from requests<3.0.0,>=2.0.0->cohere) (3.3.2)\n",
            "Requirement already satisfied: urllib3<3,>=1.21.1 in /usr/local/lib/python3.10/dist-packages (from requests<3.0.0,>=2.0.0->cohere) (2.0.7)\n",
            "Requirement already satisfied: huggingface_hub<1.0,>=0.16.4 in /usr/local/lib/python3.10/dist-packages (from tokenizers<0.16,>=0.15->cohere) (0.23.2)\n",
            "Requirement already satisfied: python-dateutil<3.0.0,>=2.1 in /usr/local/lib/python3.10/dist-packages (from botocore<1.35.0,>=1.34.123->boto3<2.0.0,>=1.34.0->cohere) (2.8.2)\n",
            "Requirement already satisfied: filelock in /usr/local/lib/python3.10/dist-packages (from huggingface_hub<1.0,>=0.16.4->tokenizers<0.16,>=0.15->cohere) (3.14.0)\n",
            "Requirement already satisfied: fsspec>=2023.5.0 in /usr/local/lib/python3.10/dist-packages (from huggingface_hub<1.0,>=0.16.4->tokenizers<0.16,>=0.15->cohere) (2023.6.0)\n",
            "Requirement already satisfied: packaging>=20.9 in /usr/local/lib/python3.10/dist-packages (from huggingface_hub<1.0,>=0.16.4->tokenizers<0.16,>=0.15->cohere) (24.0)\n",
            "Requirement already satisfied: pyyaml>=5.1 in /usr/local/lib/python3.10/dist-packages (from huggingface_hub<1.0,>=0.16.4->tokenizers<0.16,>=0.15->cohere) (6.0.1)\n",
            "Requirement already satisfied: tqdm>=4.42.1 in /usr/local/lib/python3.10/dist-packages (from huggingface_hub<1.0,>=0.16.4->tokenizers<0.16,>=0.15->cohere) (4.66.4)\n",
            "Requirement already satisfied: exceptiongroup in /usr/local/lib/python3.10/dist-packages (from anyio->httpx>=0.21.2->cohere) (1.2.1)\n",
            "Requirement already satisfied: six>=1.5 in /usr/local/lib/python3.10/dist-packages (from python-dateutil<3.0.0,>=2.1->botocore<1.35.0,>=1.34.123->boto3<2.0.0,>=1.34.0->cohere) (1.16.0)\n",
            "Installing collected packages: types-requests, parameterized, jmespath, httpx-sse, h11, fastavro, httpcore, botocore, tokenizers, s3transfer, httpx, boto3, cohere\n",
            "  Attempting uninstall: tokenizers\n",
            "    Found existing installation: tokenizers 0.19.1\n",
            "    Uninstalling tokenizers-0.19.1:\n",
            "      Successfully uninstalled tokenizers-0.19.1\n",
            "\u001b[31mERROR: pip's dependency resolver does not currently take into account all the packages that are installed. This behaviour is the source of the following dependency conflicts.\n",
            "transformers 4.41.2 requires tokenizers<0.20,>=0.19, but you have tokenizers 0.15.2 which is incompatible.\u001b[0m\u001b[31m\n",
            "\u001b[0mSuccessfully installed boto3-1.34.123 botocore-1.34.123 cohere-5.5.6 fastavro-1.9.4 h11-0.14.0 httpcore-1.0.5 httpx-0.27.0 httpx-sse-0.4.0 jmespath-1.0.1 parameterized-0.9.0 s3transfer-0.10.1 tokenizers-0.15.2 types-requests-2.32.0.20240602\n"
          ]
        }
      ]
    },
    {
      "cell_type": "code",
      "source": [
        "import cohere\n",
        "COHERE_API_KEY = \"CzzPh11xVShi7gE6GSaUeyJscuZo31UPgR9c4Of6\"\n",
        "co = cohere.Client(COHERE_API_KEY)"
      ],
      "metadata": {
        "id": "oYne3aLUjqgQ"
      },
      "execution_count": 6,
      "outputs": []
    },
    {
      "cell_type": "code",
      "source": [
        "co = cohere.Client(COHERE_API_KEY)\n",
        "\n",
        "response = co.generate(\n",
        "    prompt = \"When DRDO was established\",\n",
        "    max_tokens = 200,\n",
        "    temperature = 0.5,\n",
        "    stop_sequences=[\"\\n\"]\n",
        "\n",
        ")\n",
        "print(response.generations[0].text)"
      ],
      "metadata": {
        "colab": {
          "base_uri": "https://localhost:8080/"
        },
        "id": "KHr7Pm3Ej9Ps",
        "outputId": "0f003c4d-8fae-44eb-d71e-cec7cba465a6"
      },
      "execution_count": 7,
      "outputs": [
        {
          "output_type": "stream",
          "name": "stdout",
          "text": [
            " DRDO was established on April 1, 1965, with the mission to empower India militarily with cutting-edge technology weapons. It was formed with a mandate to undertake directed research and development in defense technologies to meet the requirements of the Armed Forces. \n",
            "\n"
          ]
        }
      ]
    },
    {
      "cell_type": "code",
      "source": [
        "import textwrap as tr\n",
        "\n",
        "co = cohere.Client(COHERE_API_KEY)\n",
        "\n",
        "response = co.generate(\n",
        "    prompt = \"When DRDO was established\",\n",
        "    max_tokens = 200,\n",
        "    temperature = 0.5,\n",
        "    stop_sequences=[\"\\n\"]\n",
        "\n",
        ")\n",
        "output = response.generations[0].text\n",
        "output = tr.fill(output, width=100)\n",
        "print(output)\n",
        "print(type(output))\n"
      ],
      "metadata": {
        "id": "8FmPqaez_VNJ",
        "colab": {
          "base_uri": "https://localhost:8080/"
        },
        "outputId": "c1df7934-fd12-425b-d392-6bd45aeb146e"
      },
      "execution_count": 8,
      "outputs": [
        {
          "output_type": "stream",
          "name": "stdout",
          "text": [
            " DRDO was established on 1958. It has been 60 years since DRDO has been influencing the Indian\n",
            "Defence Industry and the strategic domain.\n",
            "<class 'str'>\n"
          ]
        }
      ]
    },
    {
      "cell_type": "code",
      "source": [
        "prompt = \"\"\"\n",
        "Write the first paragraph of a blog post given a blog title.\n",
        "--\n",
        "Blog Title: Best Activities in Toronto\n",
        "First Paragraph: Looking for fun things to do in Toronto? When it comes to exploring Canada's\n",
        "largest city, there's an ever-evolving set of activities to choose from. Whether you're looking to\n",
        "visit a local museum or sample the city's varied cuisine, there is plenty to fill any itinerary. In\n",
        "this blog post, I'll share some of my favorite recommendations\n",
        "--\n",
        "Blog Title: Mastering Dynamic Programming\n",
        "First Paragraph: In this piece, we'll help you understand the fundamentals of dynamic programming,\n",
        "and when to apply this optimization technique. We'll break down bottom-up and top-down approaches to\n",
        "solve dynamic programming problems.\n",
        "--\n",
        "Blog Title: Learning to Code with Hello, World!\n",
        "First Paragraph:\"\"\"\n",
        "\n",
        "import textwrap as tr\n",
        "\n",
        "co = cohere.Client(COHERE_API_KEY)\n",
        "\n",
        "response = co.generate(\n",
        "    prompt = \"When DRDO was established\",\n",
        "    max_tokens = 200,\n",
        "    temperature = 0.3,\n",
        "\n",
        ")\n",
        "output = response.generations[0].text\n",
        "output = tr.fill(output, width=100)\n",
        "print(output)\n",
        "print(type(output))\n",
        ""
      ],
      "metadata": {
        "colab": {
          "base_uri": "https://localhost:8080/"
        },
        "id": "4ASy7H9zxZG-",
        "outputId": "684a3a1b-8866-4704-ccca-202ee8b4eb27"
      },
      "execution_count": 9,
      "outputs": [
        {
          "output_type": "stream",
          "name": "stdout",
          "text": [
            " DRDO was established on April 1, 1965, in order to establish a strong scientific and technical base\n",
            "for providing our defence services with cutting-edge technologies. It came into existence with a\n",
            "vision to empower Indian defence systems with home-grown innovations and cutting-edge technologies.\n",
            "Would you like to know more about DRDO?\n",
            "<class 'str'>\n"
          ]
        }
      ]
    },
    {
      "cell_type": "code",
      "source": [
        "def generate_text(based_prompt, current_prompt):\n",
        "   response = co.generate(\n",
        "       model = \"command\",\n",
        "       prompt = base_prompt + current_prompt,\n",
        "       max_tokens = 200,\n",
        "       temperature = 0.3,\n",
        "       stop_sequences=[\"--\"]\n",
        "   )\n",
        "   return response.generations[0].text"
      ],
      "metadata": {
        "id": "4EnmAfVM6xzo"
      },
      "execution_count": 14,
      "outputs": []
    },
    {
      "cell_type": "code",
      "source": [
        "base_prompt = \"\"\"\n",
        "Write the first paragraph of a blog post given a blog title.\n",
        "--\n",
        "Blog Title: Best Activities in Toronto\n",
        "First Paragraph: Looking for fun things to do in Toronto? When it comes to exploring Canada's\n",
        "largest city, there's an ever-evolving set of activities to choose from. Whether you're looking to\n",
        "visit a local museum or sample the city's varied cuisine, there is plenty to fill any itinerary. In\n",
        "this blog post, I'll share some of my favorite recommendations\n",
        "--\n",
        "Blog Title: Mastering Dynamic Programming\n",
        "First Paragraph: In this piece, we'll help you understand the fundamentals of dynamic programming,\n",
        "and when to apply this optimization technique. We'll break down bottom-up and top-down approaches to\n",
        "solve dynamic programming problems.\n",
        "--\n",
        "Blog Title:\"\"\"\n",
        "\n",
        "\n",
        "\n",
        "\n",
        "topics = [\"How to Grow in Your Career\",\n",
        "          \"The Habits of Great Software Developers\",\n",
        "          \"Ideas for a Relaxing Weekend\"]"
      ],
      "metadata": {
        "id": "iALOZIgi7QT8"
      },
      "execution_count": 15,
      "outputs": []
    },
    {
      "cell_type": "code",
      "source": [
        "pragraphs = []\n",
        "for topic in topics:\n",
        "   current_prompt = \" \" + topic + \"\\n\" + \"First Paragraph :\"\n",
        "   para = generate_text(base_prompt, current_prompt)\n",
        "   para = para.strip().replace(\"--\", \"\")\n",
        "   pragraphs.append(para)"
      ],
      "metadata": {
        "id": "LTsDSdG87Z75"
      },
      "execution_count": 16,
      "outputs": []
    },
    {
      "cell_type": "code",
      "source": [
        "for topic, para in zip(topics, pragraphs):\n",
        "   print(f\"Topic : {topic}\")\n",
        "   print(f\"First Paragraph : {para}\")\n",
        "   print(\"-\"* 15)"
      ],
      "metadata": {
        "colab": {
          "base_uri": "https://localhost:8080/"
        },
        "id": "Pm83564W8prW",
        "outputId": "142b3016-7f0a-489b-a581-bd7957164597"
      },
      "execution_count": 17,
      "outputs": [
        {
          "output_type": "stream",
          "name": "stdout",
          "text": [
            "Topic : How to Grow in Your Career\n",
            "First Paragraph : Regardless of your profession, achieving career growth requires intention, discipline and reflection. \n",
            "\n",
            "Just as we workout to grow our physical fitness, we need to take similar steps to grow our careers. In this blog, we'll discuss the importance of setting goals, networking, asking for help and taking risks in order to propel your career to the next level. \n",
            "\n",
            "Keep reading to explore tips and tricks to help you grow professionally.\n",
            "---------------\n",
            "Topic : The Habits of Great Software Developers\n",
            "First Paragraph : Whether you're an aspiring developer or a veteran in the field, honing effective habits enhances your productivity and impact. This blog post will delve into the essential habits and practices that set great software developers apart. From relentless learning to meticulous debugging, we'll explore the methodologies that pave the way for innovation and excellence in the realm of software development. Are you ready to cultivate exceptional habits? Let's get started!\n",
            "---------------\n",
            "Topic : Ideas for a Relaxing Weekend\n",
            "First Paragraph : Fed up of the same old boring weekend routines? Looking for some inspiration for your next weekend adventure? Here are some ideas for a relaxing weekend that will help you unwind and recharge your batteries. \n",
            "\n",
            "From crafting a perfect cozy ambiance to indulging in self-care, we've got you covered for the next two days of restful pleasure. \n",
            "\n",
            "So get ready to relax, recharge, and embrace the tranquility because the weekend is just around the corner! Do you want me to suggest a few more activities for this blog topic?\n",
            "---------------\n"
          ]
        }
      ]
    },
    {
      "cell_type": "markdown",
      "source": [
        "Instructional Prompts"
      ],
      "metadata": {
        "id": "r1PmY3Rc9tNW"
      }
    },
    {
      "cell_type": "code",
      "source": [
        "def generate_text(prompt, temp=0) :\n",
        "  response = co.generate(\n",
        "      model = \"command\",\n",
        "      prompt = prompt,\n",
        "      max_tokens = 500,\n",
        "      temperature = temp,\n",
        "       )\n",
        "  return response.generations[0].text"
      ],
      "metadata": {
        "id": "Y4ov82-Z9xaD"
      },
      "execution_count": 18,
      "outputs": []
    },
    {
      "cell_type": "code",
      "source": [
        "user_input = \"a wireless headphone product named the CO-1T\"\n",
        "prompt = f\"\"\" Write a creative product description for {user_input}\"\"\"\n",
        "print(generate_text(prompt, temp=0))"
      ],
      "metadata": {
        "colab": {
          "base_uri": "https://localhost:8080/"
        },
        "id": "tnnWYS76Bpf-",
        "outputId": "92d612ae-65e7-4e93-cf1b-a4a49eba0d73"
      },
      "execution_count": 19,
      "outputs": [
        {
          "output_type": "stream",
          "name": "stdout",
          "text": [
            " The CO-1T is a revolutionary new wireless headphone product that offers an incredible sound experience without the hassle of cables. The CO-1T utilizes the latest in Bluetooth technology to deliver a crisp and clear audio signal from your device to your ears, ensuring a consistently reliable connection whether you are listening to music, podcasts, or videos.\n",
            "\n",
            "The standout feature of the CO-1T is its sound quality. Immerse yourself in a world of rich, dynamic sound with deep bass, clear mids, and sparkling highs. The CO-1T's proprietary sound tuning technology ensures that you hear every detail of your favorite songs, bringing the music to life like never before. \n",
            "\n",
            "But the CO-1T isn't just about sound – it's also about comfort and convenience. The headphones are ergonomically designed with a lightweight, adjustable design and plush ear pads, ensuring a comfortable fit for extended listening sessions. Its intuitive controls make it easy to adjust volume, skip tracks, answer calls, or activate your device's voice assistant, allowing for a seamless and hassle-free user experience. \n",
            "\n",
            "The CO-1T is also designed with convenience in mind. Its powerful battery provides up to 24 hours of uninterrupted listening on a single charge, keeping up with your busy lifestyle. When it's time to recharge, the included USB-C cable gets you back to enjoying your music in no time. \n",
            "\n",
            "Overall, the CO-1T is a top-of-the-line wireless headphone product that offers an unbeatable sound experience, comfort, and convenience to elevate your daily listening experience. With its impressive sound quality, comfortable design, and convenient features, the CO-1T is a must-have for any audio enthusiast. \n"
          ]
        }
      ]
    },
    {
      "cell_type": "code",
      "source": [
        "user_input_product = \"a wireless headphone product named the CO-1T\"\n",
        "user_input_keywords = '\"bluetooth\", \"wireless\", \"fast charging\"'\n",
        "user_input_customer = \"a software developer who works in noisy offices\"\n",
        "user_input_describe = \"benefits of this product\"\n",
        "\n",
        "prompt = f\"\"\"Write a creative description for {user_input_product}\n",
        "with the Keywords: {user_input_keywords}\n",
        "for {user_input_customer},\n",
        "and Describe: {user_input_describe}\"\"\"\n",
        "print(generate_text(prompt, temp=0.5))"
      ],
      "metadata": {
        "colab": {
          "base_uri": "https://localhost:8080/"
        },
        "id": "PeEjrWtdCRR2",
        "outputId": "876cfce4-0a7a-4ba5-8b18-5ab544163102"
      },
      "execution_count": 20,
      "outputs": [
        {
          "output_type": "stream",
          "name": "stdout",
          "text": [
            " Do you hate working with the constant chatter of coworkers and annoying alerts? The CO-1T wireless headphones can help you block them all out and get your code just right. With Bluetooth connectivity, you can easily connect to any device and get right to work. Its wireless design allows free movement and no distraction from wires. If you're in a rush and your headphones die, don't worry about it! With fast charging, you can get up to 1 hour of battery-life with just a 5-minute charge, so you never have to worry about missing out on any information during an important meeting. \n",
            "\n",
            "Surround yourself with code, and not the noise, with the CO-1T wireless headphones. \n"
          ]
        }
      ]
    },
    {
      "cell_type": "code",
      "source": [
        "user_input_product = \"a wireless headphone product named the CO-1T\"\n",
        "user_input_keywords = '\"bluetooth\", \"wireless\", \"fast charging\"'\n",
        "user_input_customer = \"a software developer who works in noisy offices\"\n",
        "user_input_describe = \"benefits of this product\"\n",
        "\n",
        "prompt = f\"\"\" Write a creative description for {user_input_product}\n",
        "Keywords: {user_input_keywords}\n",
        "Audience: {user_input_customer}\n",
        "Description: {user_input_describe}\"\"\"\n",
        "print(generate_text(prompt, temp=0.5))"
      ],
      "metadata": {
        "colab": {
          "base_uri": "https://localhost:8080/"
        },
        "id": "CXTGN1g5Dam1",
        "outputId": "d69811b3-4248-4244-cbb5-b327d0e8f926"
      },
      "execution_count": 23,
      "outputs": [
        {
          "output_type": "stream",
          "name": "stdout",
          "text": [
            " Whether you're a developer, designer, or just somebody who loves their music, getting the right headphones is essential. The CO-1T is a stylish new Bluetooth headphone product that enables you to enjoy your favorite tunes without the restriction of cables. It is enhanced with ANC and environmental sound transparency, which allows you to focus on the task and protect your productivity, especially in noisy offices. \n",
            "\n",
            "With the CO-1T's fast-charging capability, you won't be stuck without juice at a crucial moment. Just 10 minutes of charging gives you a remarkable 5 hours of audio and talk time, delivering an incredible 11 hours of standby time. \n",
            "\n",
            "The headphones also come with a stylish and practical portable charging case, so you can charge them on the go! \n",
            "\n",
            "Overall, the CO-1T is an impressive technological achievement, making it an ideal companion for those who love to enjoy their music or have a calm and focused conversation wherever they are. \n"
          ]
        }
      ]
    },
    {
      "cell_type": "code",
      "source": [
        "#without context\n",
        "user_input = \"What are the key features of the CO-1T wireless headphone \"\n",
        "prompt = user_input\n",
        "print(generate_text(prompt, temp=0.5))\n"
      ],
      "metadata": {
        "colab": {
          "base_uri": "https://localhost:8080/"
        },
        "id": "mvFrNK_UEWoM",
        "outputId": "eba9b755-41d4-4233-9d84-604447e2557f"
      },
      "execution_count": 24,
      "outputs": [
        {
          "output_type": "stream",
          "name": "stdout",
          "text": [
            "Sure, the CO-1T is a new wireless headphone that has many exciting features. Here are some of its key features: \n",
            "\n",
            "1. Comfort: The CO-1T is designed to be lightweight with a comfortable fit. The ear pads are made of breathable fabric and the headband is adjustable, making it perfect for long listening sessions. \n",
            "\n",
            "2. Sound Quality: It has a powerful sound with a deep bass and clear highs, making it ideal for listening to music, videos, and movies. \n",
            "\n",
            "3. Active Noise Cancellation: The CO-1T has active noise cancellation, which uses microphones to detect and cancel out ambient noise, making it an ideal companion for commuting or use in busy public spaces. \n",
            "\n",
            "4. Wireless Connectivity: It uses Bluetooth technology to connect wirelessly to devices such as smartphones, tablets, and laptops. This allows for convenient usage and freedom of movement. \n",
            "\n",
            "5. Battery Life: The headphones offer an impressive battery life, providing up to 30 hours of playback time on a single charge, which gets you through many hours of listening without worrying about running out of juice. \n",
            "\n",
            "6. Built-in Microphone: It comes equipped with a built-in microphone, allowing you to make and take hands-free calls easily. \n",
            "\n",
            "7. Convenience Features: It has features such as gesture controls, Google Assistant/Siri compatibility, and an easy-to-use companion app, which enhances its usability. \n",
            "\n",
            "8. Foldable Design: The headphones fold up for easy storage in the included carrying case, making them convenient to bring along when traveling. \n",
            "\n",
            "These features make the CO-1T wireless headphone a versatile and convenient companion for anyone who loves high-quality sound and comfortable listening experience. \n"
          ]
        }
      ]
    },
    {
      "cell_type": "code",
      "source": [
        "#with context\n",
        "context = \"\"\"Think back to the last time you were working without any distractions in the office. That's right...I bet it's been a while. \\\n",
        "With the newly improved CO-1T noise-cancelling Bluetooth headphones, you can work in peace all day. Designed in partnership with \\\n",
        "software developers who work around the mayhem of tech startups, these headphones are finally the break you've been waiting for. With \\\n",
        "fast charging capacity and wireless Bluetooth connectivity, the CO-1T is the easy breezy way to get through your day without being \\\n",
        "overwhelmed by the chaos of the world.\"\"\"\n",
        "\n",
        "user_input = \"What are the key features of the CO-1T wireless headphone \"\n",
        "prompt = f\"\"\"Write a creative description for {user_input}\n",
        "Context: {context}\"\"\"\n",
        "print(generate_text(prompt, temp=0.5))"
      ],
      "metadata": {
        "colab": {
          "base_uri": "https://localhost:8080/"
        },
        "id": "VDuK1YMxE-5R",
        "outputId": "0391c4d0-3dac-4e58-f424-83ef85691987"
      },
      "execution_count": 25,
      "outputs": [
        {
          "output_type": "stream",
          "name": "stdout",
          "text": [
            " The CO-1T wireless headphones are specially crafted to help you create your own peaceful workspace, even in the busiest offices. With its cutting edge noise-cancelling feature, it's like you've snuck away to a quiet corner, even though you're in the middle of the action. \n",
            "\n",
            "The Bluetooth connectivity means you don't have to worry about distracting cables sprawled across your desk. The CO-1T's fast charging capacity ensures that, even when you're in a hurry, you can rely on your headphones to be ready for any task, without being wired to a power source. \n",
            "\n",
            "Enjoy the freedom to focus, and bring a new level of calm to your workday with the CO-1T wireless headphones. \n"
          ]
        }
      ]
    },
    {
      "cell_type": "code",
      "source": [
        "#without Examples\n",
        "prompt=\"\"\" Turne the following message to a virtual assitant into the correct action :\n",
        "Send a message to Alison to ask if she can pick me up tonight to go to the concert together\"\"\"\n",
        "\n",
        "response = generate_text(prompt, temp=0.5)\n",
        "print(response)"
      ],
      "metadata": {
        "colab": {
          "base_uri": "https://localhost:8080/"
        },
        "id": "qMKWhL6QFnsu",
        "outputId": "3028614f-5d6b-4aba-cbed-78e7ca0f5cb3"
      },
      "execution_count": 26,
      "outputs": [
        {
          "output_type": "stream",
          "name": "stdout",
          "text": [
            " Sure, I can do that. I will send a message to Alison asking if she can pick you up tonight to go to the concert together. Is there anything else I can assist you with? \n"
          ]
        }
      ]
    },
    {
      "cell_type": "code",
      "source": [
        "# With examples\n",
        "\n",
        "user_input = \"Send a message to Alison to ask if she can pick me up tonight to go to the concert together\"\n",
        "\n",
        "prompt=f\"\"\"Turn the following message to a virtual assistant into the correct action:\n",
        "\n",
        "Message: Ask my aunt if she can go to the JDRF Walk with me October 6th\n",
        "Action: can you go to the jdrf walk with me october 6th\n",
        "\n",
        "Message: Ask Eliza what should I bring to the wedding tomorrow\n",
        "Action: what should I bring to the wedding tomorrow\n",
        "\n",
        "Message: Send message to supervisor that I am sick and will not be in today\n",
        "Action: I am sick and will not be in today\n",
        "\n",
        "Message: {user_input}\"\"\"\n",
        "\n",
        "response= generate_text(prompt, temp=0.5)\n",
        "print(response)\n"
      ],
      "metadata": {
        "colab": {
          "base_uri": "https://localhost:8080/"
        },
        "id": "zXep0YWHGPDy",
        "outputId": "96906214-277f-431d-945a-df7ab1b12540"
      },
      "execution_count": 28,
      "outputs": [
        {
          "output_type": "stream",
          "name": "stdout",
          "text": [
            " Message: Ask Alison if she is free to pick me up tonight for the concert.\n"
          ]
        }
      ]
    },
    {
      "cell_type": "markdown",
      "source": [],
      "metadata": {
        "id": "XcpPC_EdDvIj"
      }
    }
  ]
}